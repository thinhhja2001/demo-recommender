{
 "cells": [
  {
   "cell_type": "code",
   "execution_count": 24,
   "metadata": {},
   "outputs": [
    {
     "data": {
      "text/html": [
       "<div>\n",
       "<style scoped>\n",
       "    .dataframe tbody tr th:only-of-type {\n",
       "        vertical-align: middle;\n",
       "    }\n",
       "\n",
       "    .dataframe tbody tr th {\n",
       "        vertical-align: top;\n",
       "    }\n",
       "\n",
       "    .dataframe thead th {\n",
       "        text-align: right;\n",
       "    }\n",
       "</style>\n",
       "<table border=\"1\" class=\"dataframe\">\n",
       "  <thead>\n",
       "    <tr style=\"text-align: right;\">\n",
       "      <th></th>\n",
       "      <th>user_id</th>\n",
       "      <th>song_id</th>\n",
       "      <th>plays</th>\n",
       "    </tr>\n",
       "  </thead>\n",
       "  <tbody>\n",
       "    <tr>\n",
       "      <th>0</th>\n",
       "      <td>641b13763a63f32bb9d71460</td>\n",
       "      <td>Z66D0F60</td>\n",
       "      <td>165</td>\n",
       "    </tr>\n",
       "    <tr>\n",
       "      <th>1</th>\n",
       "      <td>641b13763a63f32bb9d71460</td>\n",
       "      <td>Z6BIWFEZ</td>\n",
       "      <td>95</td>\n",
       "    </tr>\n",
       "    <tr>\n",
       "      <th>2</th>\n",
       "      <td>641b13763a63f32bb9d71460</td>\n",
       "      <td>Z6B0IC89</td>\n",
       "      <td>23</td>\n",
       "    </tr>\n",
       "    <tr>\n",
       "      <th>3</th>\n",
       "      <td>641b13763a63f32bb9d71460</td>\n",
       "      <td>Z6AFUB8O</td>\n",
       "      <td>410</td>\n",
       "    </tr>\n",
       "    <tr>\n",
       "      <th>4</th>\n",
       "      <td>641b13763a63f32bb9d71460</td>\n",
       "      <td>ZZF0WU6O</td>\n",
       "      <td>428</td>\n",
       "    </tr>\n",
       "    <tr>\n",
       "      <th>...</th>\n",
       "      <td>...</td>\n",
       "      <td>...</td>\n",
       "      <td>...</td>\n",
       "    </tr>\n",
       "    <tr>\n",
       "      <th>82</th>\n",
       "      <td>test2</td>\n",
       "      <td>ZO6EIB7B</td>\n",
       "      <td>142</td>\n",
       "    </tr>\n",
       "    <tr>\n",
       "      <th>83</th>\n",
       "      <td>test2</td>\n",
       "      <td>Z6UBADAF</td>\n",
       "      <td>413</td>\n",
       "    </tr>\n",
       "    <tr>\n",
       "      <th>84</th>\n",
       "      <td>test2</td>\n",
       "      <td>ZW807CUD</td>\n",
       "      <td>332</td>\n",
       "    </tr>\n",
       "    <tr>\n",
       "      <th>85</th>\n",
       "      <td>test1</td>\n",
       "      <td>ZW6CZ0OW</td>\n",
       "      <td>385</td>\n",
       "    </tr>\n",
       "    <tr>\n",
       "      <th>86</th>\n",
       "      <td>test3</td>\n",
       "      <td>Z690CIFO</td>\n",
       "      <td>402</td>\n",
       "    </tr>\n",
       "  </tbody>\n",
       "</table>\n",
       "<p>87 rows × 3 columns</p>\n",
       "</div>"
      ],
      "text/plain": [
       "                     user_id   song_id  plays\n",
       "0   641b13763a63f32bb9d71460  Z66D0F60    165\n",
       "1   641b13763a63f32bb9d71460  Z6BIWFEZ     95\n",
       "2   641b13763a63f32bb9d71460  Z6B0IC89     23\n",
       "3   641b13763a63f32bb9d71460  Z6AFUB8O    410\n",
       "4   641b13763a63f32bb9d71460  ZZF0WU6O    428\n",
       "..                       ...       ...    ...\n",
       "82                     test2  ZO6EIB7B    142\n",
       "83                     test2  Z6UBADAF    413\n",
       "84                     test2  ZW807CUD    332\n",
       "85                     test1  ZW6CZ0OW    385\n",
       "86                     test3  Z690CIFO    402\n",
       "\n",
       "[87 rows x 3 columns]"
      ]
     },
     "execution_count": 24,
     "metadata": {},
     "output_type": "execute_result"
    }
   ],
   "source": [
    "import pandas as pd\n",
    "\n",
    "song_record_data = pd.read_csv(\"song_record.csv\")\n",
    "song_record_data"
   ]
  },
  {
   "cell_type": "code",
   "execution_count": 37,
   "metadata": {},
   "outputs": [],
   "source": [
    "from scipy.sparse import csr_matrix\n",
    "wide_song_data =song_record_data.pivot(index=\"song_id\",columns=\"user_id\",values=\"plays\").fillna(0)\n",
    "\n",
    "wide_song_data_sparse = csr_matrix(wide_song_data.values)"
   ]
  },
  {
   "cell_type": "code",
   "execution_count": 40,
   "metadata": {},
   "outputs": [
    {
     "data": {
      "text/plain": [
       "array([[165.,   0.,   0.,   0.],\n",
       "       [279.,   0.,   0.,   0.],\n",
       "       [179.,   0.,   0., 402.],\n",
       "       [323.,   0.,   0.,   0.],\n",
       "       [423.,   0.,   0.,   0.],\n",
       "       [380.,   0.,   0.,   0.],\n",
       "       [ 19.,   0.,   0.,   0.],\n",
       "       [457.,   0.,   0.,   0.],\n",
       "       [ 87.,   0.,   0.,   0.],\n",
       "       [484.,   0.,   0.,   0.],\n",
       "       [410.,   0.,   0.,   0.],\n",
       "       [ 23.,   0.,   0.,   0.],\n",
       "       [221.,   0.,   0.,   0.],\n",
       "       [382.,   0.,   0.,   0.],\n",
       "       [281.,   0.,   0.,   0.],\n",
       "       [ 97.,   0.,   0.,   0.],\n",
       "       [ 95.,   0.,   0.,   0.],\n",
       "       [236.,   0.,   0.,   0.],\n",
       "       [167.,   0.,   0.,   0.],\n",
       "       [218.,   0.,   0.,   0.],\n",
       "       [430.,   0.,   0.,   0.],\n",
       "       [ 41.,   0.,   0.,   0.],\n",
       "       [ 57.,   0.,   0.,   0.],\n",
       "       [ 61.,   0.,   0.,   0.],\n",
       "       [194.,   0.,   0.,   0.],\n",
       "       [436.,   0., 413.,   0.],\n",
       "       [ 40.,   0.,   0.,   0.],\n",
       "       [ 13.,   0.,   0.,   0.],\n",
       "       [307.,   0.,   0.,   0.],\n",
       "       [ 67.,   0.,   0.,   0.],\n",
       "       [ 95.,   0., 142.,   0.],\n",
       "       [282.,   0.,   0.,   0.],\n",
       "       [  2.,   0.,   0.,   0.],\n",
       "       [192.,   0.,   0.,   0.],\n",
       "       [201.,   0.,   0.,   0.],\n",
       "       [ 91.,   0.,   0.,   0.],\n",
       "       [389.,   0.,   0.,   0.],\n",
       "       [389., 385.,   0.,   0.],\n",
       "       [471.,   0.,   0.,   0.],\n",
       "       [113.,   0.,   0.,   0.],\n",
       "       [460.,   0.,   0.,   0.],\n",
       "       [119.,   0.,   0.,   0.],\n",
       "       [282.,   0.,   0.,   0.],\n",
       "       [292.,   0.,   0.,   0.],\n",
       "       [354.,   0.,   0.,   0.],\n",
       "       [ 77.,   0.,   0.,   0.],\n",
       "       [278.,  89.,   0.,   0.],\n",
       "       [438.,   0.,   0.,   0.],\n",
       "       [456.,   0.,   0.,   0.],\n",
       "       [ 33.,   0.,   0.,   0.],\n",
       "       [478.,   0.,   0.,   0.],\n",
       "       [281.,   0., 332.,   0.],\n",
       "       [ 96.,   0.,   0.,   0.],\n",
       "       [412.,   0.,   0.,   0.],\n",
       "       [100.,   0.,   0.,   0.],\n",
       "       [ 17.,   0.,   0.,   0.],\n",
       "       [101.,   0.,   0.,   0.],\n",
       "       [154., 411.,   0.,   0.],\n",
       "       [ 99.,   0.,   0.,   0.],\n",
       "       [ 52.,   0.,   0.,   0.],\n",
       "       [ 57.,   0.,   0.,   0.],\n",
       "       [306.,   0.,   0.,   0.],\n",
       "       [224.,   0.,   0.,   0.],\n",
       "       [213.,   0.,   0.,   0.],\n",
       "       [354.,   0.,   0.,   0.],\n",
       "       [ 44.,   0.,   0.,   0.],\n",
       "       [464.,   0.,   0.,   0.],\n",
       "       [107.,   0.,   0.,   0.],\n",
       "       [335.,   0.,   0.,   0.],\n",
       "       [484., 338.,   0.,   0.],\n",
       "       [388.,   0.,   0.,   0.],\n",
       "       [121.,   0.,   0.,   0.],\n",
       "       [284.,   0.,   0.,   0.],\n",
       "       [161.,   0.,   0.,   0.],\n",
       "       [ 60.,   0.,   0.,   0.],\n",
       "       [ 47.,   0.,   0.,   0.],\n",
       "       [255.,   0.,   0.,   0.],\n",
       "       [428.,   0.,   0.,   0.],\n",
       "       [144.,   0.,   0.,   0.]])"
      ]
     },
     "execution_count": 40,
     "metadata": {},
     "output_type": "execute_result"
    }
   ],
   "source": [
    "wide_song_data_sparse.toarray()"
   ]
  },
  {
   "cell_type": "code",
   "execution_count": 26,
   "metadata": {},
   "outputs": [],
   "source": [
    "import numpy as np\n",
    "\n",
    "\n",
    "def save_sparse_csr(filename, array):\n",
    "    np.savez(\n",
    "        filename,\n",
    "        data=array.data,\n",
    "        indices=array.indices,\n",
    "        indptr=array.indptr,\n",
    "        shape=array.shape,\n",
    "    )\n",
    "\n",
    "\n",
    "def load_sparse_csr(filename):\n",
    "    loader = np.load(filename)\n",
    "    return csr_matrix(\n",
    "        (loader[\"data\"], loader[\"indices\"], loader[\"indptr\"]), shape=loader[\"shape\"]\n",
    "    )\n",
    "save_sparse_csr(\"song_data_sparse_matrix.npz\",wide_song_data_sparse)"
   ]
  },
  {
   "cell_type": "code",
   "execution_count": 27,
   "metadata": {},
   "outputs": [],
   "source": [
    "wide_song_data.to_csv(\"song_play_record.csv\")"
   ]
  },
  {
   "cell_type": "code",
   "execution_count": 46,
   "metadata": {},
   "outputs": [
    {
     "data": {
      "text/html": [
       "<style>#sk-container-id-6 {color: black;background-color: white;}#sk-container-id-6 pre{padding: 0;}#sk-container-id-6 div.sk-toggleable {background-color: white;}#sk-container-id-6 label.sk-toggleable__label {cursor: pointer;display: block;width: 100%;margin-bottom: 0;padding: 0.3em;box-sizing: border-box;text-align: center;}#sk-container-id-6 label.sk-toggleable__label-arrow:before {content: \"▸\";float: left;margin-right: 0.25em;color: #696969;}#sk-container-id-6 label.sk-toggleable__label-arrow:hover:before {color: black;}#sk-container-id-6 div.sk-estimator:hover label.sk-toggleable__label-arrow:before {color: black;}#sk-container-id-6 div.sk-toggleable__content {max-height: 0;max-width: 0;overflow: hidden;text-align: left;background-color: #f0f8ff;}#sk-container-id-6 div.sk-toggleable__content pre {margin: 0.2em;color: black;border-radius: 0.25em;background-color: #f0f8ff;}#sk-container-id-6 input.sk-toggleable__control:checked~div.sk-toggleable__content {max-height: 200px;max-width: 100%;overflow: auto;}#sk-container-id-6 input.sk-toggleable__control:checked~label.sk-toggleable__label-arrow:before {content: \"▾\";}#sk-container-id-6 div.sk-estimator input.sk-toggleable__control:checked~label.sk-toggleable__label {background-color: #d4ebff;}#sk-container-id-6 div.sk-label input.sk-toggleable__control:checked~label.sk-toggleable__label {background-color: #d4ebff;}#sk-container-id-6 input.sk-hidden--visually {border: 0;clip: rect(1px 1px 1px 1px);clip: rect(1px, 1px, 1px, 1px);height: 1px;margin: -1px;overflow: hidden;padding: 0;position: absolute;width: 1px;}#sk-container-id-6 div.sk-estimator {font-family: monospace;background-color: #f0f8ff;border: 1px dotted black;border-radius: 0.25em;box-sizing: border-box;margin-bottom: 0.5em;}#sk-container-id-6 div.sk-estimator:hover {background-color: #d4ebff;}#sk-container-id-6 div.sk-parallel-item::after {content: \"\";width: 100%;border-bottom: 1px solid gray;flex-grow: 1;}#sk-container-id-6 div.sk-label:hover label.sk-toggleable__label {background-color: #d4ebff;}#sk-container-id-6 div.sk-serial::before {content: \"\";position: absolute;border-left: 1px solid gray;box-sizing: border-box;top: 0;bottom: 0;left: 50%;z-index: 0;}#sk-container-id-6 div.sk-serial {display: flex;flex-direction: column;align-items: center;background-color: white;padding-right: 0.2em;padding-left: 0.2em;position: relative;}#sk-container-id-6 div.sk-item {position: relative;z-index: 1;}#sk-container-id-6 div.sk-parallel {display: flex;align-items: stretch;justify-content: center;background-color: white;position: relative;}#sk-container-id-6 div.sk-item::before, #sk-container-id-6 div.sk-parallel-item::before {content: \"\";position: absolute;border-left: 1px solid gray;box-sizing: border-box;top: 0;bottom: 0;left: 50%;z-index: -1;}#sk-container-id-6 div.sk-parallel-item {display: flex;flex-direction: column;z-index: 1;position: relative;background-color: white;}#sk-container-id-6 div.sk-parallel-item:first-child::after {align-self: flex-end;width: 50%;}#sk-container-id-6 div.sk-parallel-item:last-child::after {align-self: flex-start;width: 50%;}#sk-container-id-6 div.sk-parallel-item:only-child::after {width: 0;}#sk-container-id-6 div.sk-dashed-wrapped {border: 1px dashed gray;margin: 0 0.4em 0.5em 0.4em;box-sizing: border-box;padding-bottom: 0.4em;background-color: white;}#sk-container-id-6 div.sk-label label {font-family: monospace;font-weight: bold;display: inline-block;line-height: 1.2em;}#sk-container-id-6 div.sk-label-container {text-align: center;}#sk-container-id-6 div.sk-container {/* jupyter's `normalize.less` sets `[hidden] { display: none; }` but bootstrap.min.css set `[hidden] { display: none !important; }` so we also need the `!important` here to be able to override the default hidden behavior on the sphinx rendered scikit-learn.org. See: https://github.com/scikit-learn/scikit-learn/issues/21755 */display: inline-block !important;position: relative;}#sk-container-id-6 div.sk-text-repr-fallback {display: none;}</style><div id=\"sk-container-id-6\" class=\"sk-top-container\"><div class=\"sk-text-repr-fallback\"><pre>NearestNeighbors(algorithm=&#x27;brute&#x27;, metric=&#x27;cosine&#x27;, n_neighbors=15)</pre><b>In a Jupyter environment, please rerun this cell to show the HTML representation or trust the notebook. <br />On GitHub, the HTML representation is unable to render, please try loading this page with nbviewer.org.</b></div><div class=\"sk-container\" hidden><div class=\"sk-item\"><div class=\"sk-estimator sk-toggleable\"><input class=\"sk-toggleable__control sk-hidden--visually\" id=\"sk-estimator-id-6\" type=\"checkbox\" checked><label for=\"sk-estimator-id-6\" class=\"sk-toggleable__label sk-toggleable__label-arrow\">NearestNeighbors</label><div class=\"sk-toggleable__content\"><pre>NearestNeighbors(algorithm=&#x27;brute&#x27;, metric=&#x27;cosine&#x27;, n_neighbors=15)</pre></div></div></div></div></div>"
      ],
      "text/plain": [
       "NearestNeighbors(algorithm='brute', metric='cosine', n_neighbors=15)"
      ]
     },
     "execution_count": 46,
     "metadata": {},
     "output_type": "execute_result"
    }
   ],
   "source": [
    "from sklearn.neighbors import NearestNeighbors\n",
    "\n",
    "model_knn_cosine = NearestNeighbors(metric=\"cosine\",algorithm=\"brute\",n_neighbors=15)\n",
    "model_knn_cosine.fit(wide_song_data_sparse)"
   ]
  },
  {
   "cell_type": "code",
   "execution_count": 49,
   "metadata": {},
   "outputs": [
    {
     "data": {
      "text/html": [
       "<style>#sk-container-id-7 {color: black;background-color: white;}#sk-container-id-7 pre{padding: 0;}#sk-container-id-7 div.sk-toggleable {background-color: white;}#sk-container-id-7 label.sk-toggleable__label {cursor: pointer;display: block;width: 100%;margin-bottom: 0;padding: 0.3em;box-sizing: border-box;text-align: center;}#sk-container-id-7 label.sk-toggleable__label-arrow:before {content: \"▸\";float: left;margin-right: 0.25em;color: #696969;}#sk-container-id-7 label.sk-toggleable__label-arrow:hover:before {color: black;}#sk-container-id-7 div.sk-estimator:hover label.sk-toggleable__label-arrow:before {color: black;}#sk-container-id-7 div.sk-toggleable__content {max-height: 0;max-width: 0;overflow: hidden;text-align: left;background-color: #f0f8ff;}#sk-container-id-7 div.sk-toggleable__content pre {margin: 0.2em;color: black;border-radius: 0.25em;background-color: #f0f8ff;}#sk-container-id-7 input.sk-toggleable__control:checked~div.sk-toggleable__content {max-height: 200px;max-width: 100%;overflow: auto;}#sk-container-id-7 input.sk-toggleable__control:checked~label.sk-toggleable__label-arrow:before {content: \"▾\";}#sk-container-id-7 div.sk-estimator input.sk-toggleable__control:checked~label.sk-toggleable__label {background-color: #d4ebff;}#sk-container-id-7 div.sk-label input.sk-toggleable__control:checked~label.sk-toggleable__label {background-color: #d4ebff;}#sk-container-id-7 input.sk-hidden--visually {border: 0;clip: rect(1px 1px 1px 1px);clip: rect(1px, 1px, 1px, 1px);height: 1px;margin: -1px;overflow: hidden;padding: 0;position: absolute;width: 1px;}#sk-container-id-7 div.sk-estimator {font-family: monospace;background-color: #f0f8ff;border: 1px dotted black;border-radius: 0.25em;box-sizing: border-box;margin-bottom: 0.5em;}#sk-container-id-7 div.sk-estimator:hover {background-color: #d4ebff;}#sk-container-id-7 div.sk-parallel-item::after {content: \"\";width: 100%;border-bottom: 1px solid gray;flex-grow: 1;}#sk-container-id-7 div.sk-label:hover label.sk-toggleable__label {background-color: #d4ebff;}#sk-container-id-7 div.sk-serial::before {content: \"\";position: absolute;border-left: 1px solid gray;box-sizing: border-box;top: 0;bottom: 0;left: 50%;z-index: 0;}#sk-container-id-7 div.sk-serial {display: flex;flex-direction: column;align-items: center;background-color: white;padding-right: 0.2em;padding-left: 0.2em;position: relative;}#sk-container-id-7 div.sk-item {position: relative;z-index: 1;}#sk-container-id-7 div.sk-parallel {display: flex;align-items: stretch;justify-content: center;background-color: white;position: relative;}#sk-container-id-7 div.sk-item::before, #sk-container-id-7 div.sk-parallel-item::before {content: \"\";position: absolute;border-left: 1px solid gray;box-sizing: border-box;top: 0;bottom: 0;left: 50%;z-index: -1;}#sk-container-id-7 div.sk-parallel-item {display: flex;flex-direction: column;z-index: 1;position: relative;background-color: white;}#sk-container-id-7 div.sk-parallel-item:first-child::after {align-self: flex-end;width: 50%;}#sk-container-id-7 div.sk-parallel-item:last-child::after {align-self: flex-start;width: 50%;}#sk-container-id-7 div.sk-parallel-item:only-child::after {width: 0;}#sk-container-id-7 div.sk-dashed-wrapped {border: 1px dashed gray;margin: 0 0.4em 0.5em 0.4em;box-sizing: border-box;padding-bottom: 0.4em;background-color: white;}#sk-container-id-7 div.sk-label label {font-family: monospace;font-weight: bold;display: inline-block;line-height: 1.2em;}#sk-container-id-7 div.sk-label-container {text-align: center;}#sk-container-id-7 div.sk-container {/* jupyter's `normalize.less` sets `[hidden] { display: none; }` but bootstrap.min.css set `[hidden] { display: none !important; }` so we also need the `!important` here to be able to override the default hidden behavior on the sphinx rendered scikit-learn.org. See: https://github.com/scikit-learn/scikit-learn/issues/21755 */display: inline-block !important;position: relative;}#sk-container-id-7 div.sk-text-repr-fallback {display: none;}</style><div id=\"sk-container-id-7\" class=\"sk-top-container\"><div class=\"sk-text-repr-fallback\"><pre>NearestNeighbors(algorithm=&#x27;brute&#x27;, metric=&#x27;euclidean&#x27;, n_neighbors=15)</pre><b>In a Jupyter environment, please rerun this cell to show the HTML representation or trust the notebook. <br />On GitHub, the HTML representation is unable to render, please try loading this page with nbviewer.org.</b></div><div class=\"sk-container\" hidden><div class=\"sk-item\"><div class=\"sk-estimator sk-toggleable\"><input class=\"sk-toggleable__control sk-hidden--visually\" id=\"sk-estimator-id-7\" type=\"checkbox\" checked><label for=\"sk-estimator-id-7\" class=\"sk-toggleable__label sk-toggleable__label-arrow\">NearestNeighbors</label><div class=\"sk-toggleable__content\"><pre>NearestNeighbors(algorithm=&#x27;brute&#x27;, metric=&#x27;euclidean&#x27;, n_neighbors=15)</pre></div></div></div></div></div>"
      ],
      "text/plain": [
       "NearestNeighbors(algorithm='brute', metric='euclidean', n_neighbors=15)"
      ]
     },
     "execution_count": 49,
     "metadata": {},
     "output_type": "execute_result"
    }
   ],
   "source": [
    "model_knn_euclidean = NearestNeighbors(\n",
    "    metric=\"euclidean\", algorithm=\"brute\", n_neighbors=15\n",
    ")\n",
    "model_knn_euclidean.fit(wide_song_data_sparse)"
   ]
  },
  {
   "cell_type": "code",
   "execution_count": 43,
   "metadata": {},
   "outputs": [],
   "source": [
    "import pickle\n",
    "from fuzzywuzzy import fuzz"
   ]
  },
  {
   "cell_type": "code",
   "execution_count": 75,
   "metadata": {},
   "outputs": [],
   "source": [
    "def print_song_recommendations(song_id, song_play_matrix, knn_model, k):\n",
    "    \"\"\"\n",
    "    Inputs:\n",
    "        song_id: id of song\n",
    "        song_play_matrix: song_play_matrix (not the sparse one, the pandas dataframe)\n",
    "        knn_model: our previously fitted knn_model\n",
    "        k: the number of nearest neighbors\n",
    "    Prints: Song recommendations for the provided song id\n",
    "    Return: None\n",
    "    \"\"\"\n",
    "    query_index = None\n",
    "    ratio_tuples = []\n",
    "\n",
    "    for i in song_play_matrix.index:\n",
    "        ratio = fuzz.ratio(i, song_id)\n",
    "        if ratio == 100:\n",
    "            current_index_query = song_play_matrix.index.tolist().index(i)\n",
    "            ratio_tuples.append((i, ratio, current_index_query))\n",
    "    try:\n",
    "        query_index = max(ratio_tuples, key=lambda x: x[1])[2]\n",
    "    except:\n",
    "        print(\"Your song didn't match any song id in the data. Try again\")\n",
    "        return None\n",
    "\n",
    "    distances, indices = knn_model.kneighbors(\n",
    "        song_play_matrix.iloc[query_index, :].values.reshape(1, -1), n_neighbors=k + 1\n",
    "    )\n",
    "    for i in range(0, len(distances.flatten())):\n",
    "        if i == 0:\n",
    "            print(\n",
    "                \"Cosine similarity compare with {0}\\n\".format(song_play_matrix.index[query_index])\n",
    "            )\n",
    "        else:\n",
    "            print(\n",
    "                \"{0}: {1}, with similarity of {2}\".format(\n",
    "                    i,\n",
    "                    song_play_matrix.index[indices.flatten()[i]],\n",
    "                    1 - distances.flatten()[i],\n",
    "                )\n",
    "            )\n",
    "    return None"
   ]
  },
  {
   "cell_type": "code",
   "execution_count": 73,
   "metadata": {},
   "outputs": [],
   "source": [
    "def build_model(metric):\n",
    "    model_knn = NearestNeighbors(metric=metric, algorithm=\"auto\", n_neighbors=15)\n",
    "\n",
    "    model_knn.fit(wide_song_data_sparse)\n",
    "    return model_knn"
   ]
  },
  {
   "cell_type": "code",
   "execution_count": 76,
   "metadata": {},
   "outputs": [
    {
     "name": "stdout",
     "output_type": "stream",
     "text": [
      "Cosine similarity compare with ZWA7CE0B\n",
      "\n",
      "1: ZW6CZ0OW, with similarity of 0.9081041999676464\n",
      "2: ZWZD9DCB, with similarity of 0.8238213698182139\n",
      "3: ZW7IUA6E, with similarity of 0.6196819964162361\n",
      "4: ZW8W777E, with similarity of 0.35087374133219607\n",
      "5: ZW9CFDU9, with similarity of 0.35087374133219607\n"
     ]
    }
   ],
   "source": [
    "print_song_recommendations(\"ZWA7CE0B\", wide_song_data, build_model(\"cosine\"), k=5)\n"
   ]
  },
  {
   "cell_type": "code",
   "execution_count": 69,
   "metadata": {},
   "outputs": [
    {
     "name": "stdout",
     "output_type": "stream",
     "text": [
      "Recommendation for ZWA7CE0B\n",
      "\n",
      "1: ZW6CZ0OW, with distance of 261.0\n",
      "2: ZWZD9DCB, with distance of 403.0\n",
      "3: ZZ9IZ898, with distance of 418.0\n",
      "4: ZZU9060B, with distance of 421.0\n",
      "5: Z66D0F60, with distance of 422.0\n"
     ]
    }
   ],
   "source": [
    "print_song_recommendations(\"ZWA7CE0B\", wide_song_data, build_model(\"manhattan\"), k=5)\n"
   ]
  },
  {
   "cell_type": "code",
   "execution_count": 71,
   "metadata": {},
   "outputs": [
    {
     "name": "stdout",
     "output_type": "stream",
     "text": [
      "Recommendation for ZWA7CE0B\n",
      "\n",
      "1: ZW6CZ0OW, with distance of 236.4339231159522\n",
      "2: ZWZD9DCB, with distance of 337.9778099224859\n",
      "3: ZW7IUA6E, with distance of 345.05072090925995\n",
      "4: ZZ9IZ898, with distance of 411.0596063833079\n",
      "5: ZZU9060B, with distance of 411.1216365018995\n"
     ]
    }
   ],
   "source": [
    "print_song_recommendations(\"ZWA7CE0B\", wide_song_data, build_model(\"euclidean\"), k=5)\n"
   ]
  }
 ],
 "metadata": {
  "kernelspec": {
   "display_name": "Python 3",
   "language": "python",
   "name": "python3"
  },
  "language_info": {
   "codemirror_mode": {
    "name": "ipython",
    "version": 3
   },
   "file_extension": ".py",
   "mimetype": "text/x-python",
   "name": "python",
   "nbconvert_exporter": "python",
   "pygments_lexer": "ipython3",
   "version": "3.11.4"
  },
  "orig_nbformat": 4
 },
 "nbformat": 4,
 "nbformat_minor": 2
}
