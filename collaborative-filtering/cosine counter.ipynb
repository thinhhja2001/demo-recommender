{
 "cells": [
  {
   "cell_type": "code",
   "execution_count": 2,
   "metadata": {},
   "outputs": [],
   "source": [
    "import numpy as np\n",
    "\n",
    "\n",
    "def cosine_similarity(x, y):\n",
    "    # Ensure length of x and y are the same\n",
    "    if len(x) != len(y):\n",
    "        return None\n",
    "\n",
    "    # Compute the dot product between x and y\n",
    "    dot_product = np.dot(x, y)\n",
    "\n",
    "    # Compute the L2 norms (magnitudes) of x and y\n",
    "    magnitude_x = np.sqrt(np.sum(x**2))\n",
    "    magnitude_y = np.sqrt(np.sum(y**2))\n",
    "\n",
    "    # Compute the cosine similarity\n",
    "    cosine_similarity = dot_product / (magnitude_x * magnitude_y)\n",
    "\n",
    "    return cosine_similarity"
   ]
  },
  {
   "cell_type": "code",
   "execution_count": 30,
   "metadata": {},
   "outputs": [],
   "source": [
    "import numpy\n",
    "\n",
    "\n",
    "x = numpy.array([154.0, 411.0, 0.0, 0.0])\n",
    "y = numpy.array([17.0, 0.0, 0.0, 0.0])"
   ]
  },
  {
   "cell_type": "code",
   "execution_count": 31,
   "metadata": {},
   "outputs": [
    {
     "name": "stdout",
     "output_type": "stream",
     "text": [
      "0.35087374133219607\n"
     ]
    }
   ],
   "source": [
    "print(cosine_similarity(x,y))"
   ]
  },
  {
   "cell_type": "code",
   "execution_count": null,
   "metadata": {},
   "outputs": [],
   "source": []
  },
  {
   "cell_type": "code",
   "execution_count": 5,
   "metadata": {},
   "outputs": [],
   "source": [
    "corpus = [\n",
    "    \"data science is one of the most important fields of science\",\n",
    "    \"this is one of the best data science courses\",\n",
    "    \"data scientists analyze data\",\n",
    "]"
   ]
  },
  {
   "cell_type": "code",
   "execution_count": 7,
   "metadata": {},
   "outputs": [
    {
     "name": "stdout",
     "output_type": "stream",
     "text": [
      "[[0 0 0 1 1 1 1 1 2 1 2 0 1 0]\n",
      " [0 1 1 1 0 0 1 0 1 1 1 0 1 1]\n",
      " [1 0 0 2 0 0 0 0 0 0 0 1 0 0]]\n"
     ]
    }
   ],
   "source": [
    "from sklearn.feature_extraction.text import CountVectorizer\n",
    "\n",
    "# Create a matrix to represent the corpus\n",
    "X = CountVectorizer().fit_transform(corpus).toarray()\n",
    "\n",
    "print(X)"
   ]
  },
  {
   "cell_type": "code",
   "execution_count": 23,
   "metadata": {},
   "outputs": [
    {
     "data": {
      "text/plain": [
       "array([0, 0, 0, 1, 1, 1, 1, 1, 2, 1, 2, 0, 1, 0], dtype=int64)"
      ]
     },
     "execution_count": 23,
     "metadata": {},
     "output_type": "execute_result"
    }
   ],
   "source": [
    "X[0,:]"
   ]
  },
  {
   "cell_type": "code",
   "execution_count": 8,
   "metadata": {},
   "outputs": [
    {
     "name": "stdout",
     "output_type": "stream",
     "text": [
      "Cosine Similarity between: \n",
      "\tDocument 1 and Document 2:  0.6885303726590962\n",
      "\tDocument 1 and Document 3:  0.21081851067789195\n",
      "\tDocument 2 and Document 3:  0.2721655269759087\n"
     ]
    }
   ],
   "source": [
    "cos_sim_1_2 = cosine_similarity(X[0, :], X[1, :])\n",
    "cos_sim_1_3 = cosine_similarity(X[0, :], X[2, :])\n",
    "cos_sim_2_3 = cosine_similarity(X[1, :], X[2, :])\n",
    "\n",
    "print(\"Cosine Similarity between: \")\n",
    "print(\"\\tDocument 1 and Document 2: \", cos_sim_1_2)\n",
    "print(\"\\tDocument 1 and Document 3: \", cos_sim_1_3)\n",
    "print(\"\\tDocument 2 and Document 3: \", cos_sim_2_3)"
   ]
  }
 ],
 "metadata": {
  "kernelspec": {
   "display_name": "Python 3",
   "language": "python",
   "name": "python3"
  },
  "language_info": {
   "codemirror_mode": {
    "name": "ipython",
    "version": 3
   },
   "file_extension": ".py",
   "mimetype": "text/x-python",
   "name": "python",
   "nbconvert_exporter": "python",
   "pygments_lexer": "ipython3",
   "version": "3.11.4"
  },
  "orig_nbformat": 4
 },
 "nbformat": 4,
 "nbformat_minor": 2
}
