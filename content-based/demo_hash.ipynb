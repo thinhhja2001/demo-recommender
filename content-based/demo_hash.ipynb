{
 "cells": [
  {
   "cell_type": "code",
   "execution_count": 3,
   "metadata": {},
   "outputs": [],
   "source": [
    "def alphabet_to_int(str):\n",
    "    sum = 0\n",
    "    for letter in str:\n",
    "        value = 0\n",
    "        try:\n",
    "            value = ord(letter)\n",
    "        except:\n",
    "            value = int(letter)\n",
    "        sum += value\n",
    "    return sum"
   ]
  },
  {
   "cell_type": "code",
   "execution_count": 16,
   "metadata": {},
   "outputs": [],
   "source": [
    "import random\n",
    "\n",
    "\n",
    "class LSH:\n",
    "    def __init__(self, data, hash_size=10):\n",
    "        self.data = data\n",
    "        self.hash_size = hash_size\n",
    "        self.hash_functions = self.generate_hash_functions()\n",
    "\n",
    "    def generate_hash_functions(self):\n",
    "        hash_functions = []\n",
    "        for _ in range(self.hash_size):\n",
    "            hash_functions.append(lambda x: alphabet_to_int(x) % random.randint(1, 10))\n",
    "        return hash_functions\n",
    "\n",
    "    def hash(self, value):\n",
    "        hashes = []\n",
    "        for hash_func in self.hash_functions:\n",
    "            hash_value = hash_func(value)\n",
    "            hashes.append(hash_value)\n",
    "        return hashes\n",
    "\n",
    "    def insert(self, value):\n",
    "        hashes = self.hash(value)\n",
    "        for hash_value in hashes:\n",
    "            if hash_value in self.data:\n",
    "                self.data[hash_value].append(value)\n",
    "            else:\n",
    "                self.data[hash_value] = [value]\n",
    "\n",
    "    def query(self, value):\n",
    "        hashes = self.hash(value)\n",
    "        similar_items = set()\n",
    "        for hash_value in hashes:\n",
    "            if hash_value in self.data:\n",
    "                similar_items.update(self.data[hash_value])\n",
    "        return similar_items"
   ]
  },
  {
   "cell_type": "code",
   "execution_count": 83,
   "metadata": {},
   "outputs": [
    {
     "name": "stdout",
     "output_type": "stream",
     "text": [
      "Giá trị query: \n",
      "IWZ9Z0E8\n",
      "Các điểm gần với truy vấn: \n",
      "{'IWZ9Z08I', 'IWZ9Z0CU', 'IWZ9Z086', 'IWZ9Z0E8', 'IWZ9Z08O', 'IWZ9Z08W'}\n"
     ]
    }
   ],
   "source": [
    "# Data mẫu, genre id\n",
    "data = [\n",
    "    \"IWZ9Z086\",\n",
    "    \"IWZ9Z0E8\",\n",
    "    \"IWZ9Z086\",\n",
    "    \"IWZ9Z08I\",\n",
    "    \"IWZ9Z08W\",\n",
    "    \"IWZ9Z0CU\",\n",
    "    \"IWZ9Z08O\",\n",
    "]\n",
    "\n",
    "lsh = LSH({})\n",
    "for value in data:\n",
    "    lsh.insert(value)\n",
    "\n",
    "# Lấy một giá trị query ngẫu nhiên\n",
    "query_item = data[random.randint(0, len(data) - 1)]\n",
    "\n",
    "# Tìm kiếm các điểm gần nhau với truy vấn\n",
    "similar_items = lsh.query(query_item)\n",
    "\n",
    "print(\"Giá trị query: \")\n",
    "print(query_item)\n",
    "\n",
    "print(\"Các điểm gần với truy vấn: \")\n",
    "print(similar_items)"
   ]
  }
 ],
 "metadata": {
  "kernelspec": {
   "display_name": "Python 3",
   "language": "python",
   "name": "python3"
  },
  "language_info": {
   "codemirror_mode": {
    "name": "ipython",
    "version": 3
   },
   "file_extension": ".py",
   "mimetype": "text/x-python",
   "name": "python",
   "nbconvert_exporter": "python",
   "pygments_lexer": "ipython3",
   "version": "3.11.4"
  },
  "orig_nbformat": 4
 },
 "nbformat": 4,
 "nbformat_minor": 2
}
