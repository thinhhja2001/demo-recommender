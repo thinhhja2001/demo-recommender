{
 "cells": [
  {
   "cell_type": "code",
   "execution_count": 28,
   "metadata": {},
   "outputs": [],
   "source": [
    "import random\n",
    "\n",
    "\n",
    "class LSH:\n",
    "    def __init__(self, data, hash_size=4):\n",
    "        self.data = data\n",
    "        self.hash_size = hash_size\n",
    "        self.hash_functions = self.generate_hash_functions()\n",
    "\n",
    "    def generate_hash_functions(self):\n",
    "        hash_functions = []\n",
    "        for _ in range(self.hash_size):\n",
    "            a = random.randint(1, 10)\n",
    "            b = random.randint(1, 10)\n",
    "            hash_functions.append(lambda x: (a * x + b) % 2)\n",
    "        return hash_functions\n",
    "\n",
    "    def hash(self, value):\n",
    "        hashes = []\n",
    "        for hash_func in self.hash_functions:\n",
    "            hash_value = hash_func(value)\n",
    "            hashes.append(hash_value)\n",
    "        return hashes\n",
    "\n",
    "    def insert(self, value):\n",
    "        hashes = self.hash(value=value)\n",
    "        for hash_value in hashes:\n",
    "            if hash_value in self.data:\n",
    "                self.data[hash_value].append(value)\n",
    "            else:\n",
    "                self.data[hash_value] = [value]\n",
    "\n",
    "    def query(self, value):\n",
    "        hashes = self.hash(value=value)\n",
    "        similar_items = set()\n",
    "        for hash_value in hashes:\n",
    "            if hash_value in self.data:\n",
    "                similar_items.update(self.data[hash_value])\n",
    "        return similar_items"
   ]
  },
  {
   "cell_type": "code",
   "execution_count": 86,
   "metadata": {},
   "outputs": [
    {
     "name": "stdout",
     "output_type": "stream",
     "text": [
      "Giá trị query: \n",
      "6\n",
      "Các điểm gần nhau với truy vấn: \n",
      "{1, 3, 5, 6, 8, 9, 10, 11, 12, 13, 14, 16, 19, 20, 23, 25, 27, 29, 31, 32, 33, 34, 35, 36, 37, 39, 41, 42, 44, 48, 51, 52, 53, 54, 55, 58, 59, 61, 63, 65, 66, 67, 68, 69, 70, 71, 72, 73, 76, 77, 79, 80, 81, 83, 85, 86, 87, 88, 90, 91, 92, 93, 95, 98, 99, 100}\n"
     ]
    }
   ],
   "source": [
    "# Tạo dữ liệu ngẫu nhiên\n",
    "data = []\n",
    "\n",
    "for _ in range(100):\n",
    "    data.append(random.randint(1, 100))\n",
    "\n",
    "# Tạo đối tượng LSH và chèn dữ liệu\n",
    "lsh = LSH({})\n",
    "\n",
    "for value in data:\n",
    "    lsh.insert(value)\n",
    "\n",
    "# Tạo một truy vấn ngẫu nhiên\n",
    "query_value = random.randint(1, 100)\n",
    "\n",
    "# Tìm kiếm các điểm gần nhau với truy vấn\n",
    "similar_items = lsh.query(query_value)\n",
    "\n",
    "print(\"Giá trị query: \")\n",
    "print(query_value)\n",
    "\n",
    "print(\"Các điểm gần nhau với truy vấn: \")\n",
    "print(similar_items)"
   ]
  },
  {
   "cell_type": "code",
   "execution_count": 90,
   "metadata": {},
   "outputs": [
    {
     "data": {
      "text/plain": [
       "<function __main__.LSH.generate_hash_functions.<locals>.<lambda>(x)>"
      ]
     },
     "execution_count": 90,
     "metadata": {},
     "output_type": "execute_result"
    }
   ],
   "source": [
    "lsh.hash_functions[1]"
   ]
  }
 ],
 "metadata": {
  "kernelspec": {
   "display_name": "Python 3",
   "language": "python",
   "name": "python3"
  },
  "language_info": {
   "codemirror_mode": {
    "name": "ipython",
    "version": 3
   },
   "file_extension": ".py",
   "mimetype": "text/x-python",
   "name": "python",
   "nbconvert_exporter": "python",
   "pygments_lexer": "ipython3",
   "version": "3.11.4"
  },
  "orig_nbformat": 4
 },
 "nbformat": 4,
 "nbformat_minor": 2
}
